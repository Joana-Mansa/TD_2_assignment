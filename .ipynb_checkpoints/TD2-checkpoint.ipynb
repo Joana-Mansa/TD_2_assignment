{
 "cells": [
  {
   "cell_type": "markdown",
   "metadata": {
    "pycharm": {
     "name": "#%% md\n"
    }
   },
   "source": [
    "# List comprehension and Try Catch"
   ]
  },
  {
   "cell_type": "markdown",
   "metadata": {
    "pycharm": {
     "name": "#%% md\n"
    }
   },
   "source": [
    "## Recall: this is the standard structure of a list comprehension"
   ]
  },
  {
   "cell_type": "markdown",
   "metadata": {
    "pycharm": {
     "name": "#%% md\n"
    }
   },
   "source": [
    "## [ expression for elem in list if statement]"
   ]
  },
  {
   "cell_type": "code",
   "execution_count": 2,
   "metadata": {
    "pycharm": {
     "is_executing": true,
     "name": "#%%\n"
    }
   },
   "outputs": [],
   "source": [
    "import numpy as np\n",
    "\n",
    "my_word = 'Robotics'\n",
    "my_sentence = 'A robot may not injure a human being or, through interaction, allow a human being to come to harm'\n",
    "my_numbers = range(100)\n",
    "my_matrix = np.asarray([[2,4,6,8,10], [1,3,7,9,11]])"
   ]
  },
  {
   "cell_type": "markdown",
   "metadata": {
    "pycharm": {
     "name": "#%% md\n"
    }
   },
   "source": [
    "<div class=\"alert alert-success\">\n",
    "\n",
    "<b>EXERCISE 1</b>:\n",
    "\n",
    "Use list comprehension to print the letters of my_word one by one"
   ]
  },
  {
   "cell_type": "code",
   "execution_count": 7,
   "metadata": {
    "pycharm": {
     "is_executing": true,
     "name": "#%%\n"
    }
   },
   "outputs": [
    {
     "name": "stdout",
     "output_type": "stream",
     "text": [
      "R\n",
      "o\n",
      "b\n",
      "o\n",
      "t\n",
      "i\n",
      "c\n",
      "s\n"
     ]
    },
    {
     "data": {
      "text/plain": [
       "[None, None, None, None, None, None, None, None]"
      ]
     },
     "execution_count": 7,
     "metadata": {},
     "output_type": "execute_result"
    }
   ],
   "source": [
    "#for elem in my_word:\n",
    "#    print(elem)\n",
    "# loops over the my_word variable and prints the elements\n",
    "[ print(elem) for elem in my_word] # Your list comprehension here, print inside the comprehension, not afterwards"
   ]
  },
  {
   "cell_type": "markdown",
   "metadata": {},
   "source": [
    "<div class=\"alert alert-success\">\n",
    "\n",
    "<b>EXERCISE 2</b>:\n",
    "\n",
    "Use list comprehension to print the vowels of my_sentence"
   ]
  },
  {
   "cell_type": "code",
   "execution_count": 10,
   "metadata": {},
   "outputs": [
    {
     "name": "stdout",
     "output_type": "stream",
     "text": [
      "o\n",
      "o\n",
      "a\n",
      "o\n",
      "i\n",
      "u\n",
      "e\n",
      "a\n",
      "u\n",
      "a\n",
      "e\n",
      "i\n",
      "o\n",
      "o\n",
      "u\n",
      "i\n",
      "e\n",
      "a\n",
      "i\n",
      "o\n",
      "a\n",
      "o\n",
      "a\n",
      "u\n",
      "a\n",
      "e\n",
      "i\n",
      "o\n",
      "o\n",
      "e\n",
      "o\n",
      "a\n"
     ]
    }
   ],
   "source": [
    "alphabet_vowels = 'aeiou'\n",
    "\n",
    "# prints vowels\n",
    "my_sentence_vowels = [print(vowels) for vowels in my_sentence if vowels in alphabet_vowels] # Your list comprehension here\n",
    "# Note: the letter 'A' from the sentence start is missing: 'a' != 'A', and 'A' not in alphabet_vowels, so ignore it\n"
   ]
  },
  {
   "cell_type": "markdown",
   "metadata": {
    "pycharm": {
     "name": "#%%\n"
    }
   },
   "source": [
    "<div class=\"alert alert-success\">\n",
    "\n",
    "<b>EXERCISE 3</b>:\n",
    "\n",
    "Use list comprehension to print the even numbers of my_numbers"
   ]
  },
  {
   "cell_type": "code",
   "execution_count": 11,
   "metadata": {},
   "outputs": [
    {
     "name": "stdout",
     "output_type": "stream",
     "text": [
      "0\n",
      "2\n",
      "4\n",
      "6\n",
      "8\n",
      "10\n",
      "12\n",
      "14\n",
      "16\n",
      "18\n",
      "20\n",
      "22\n",
      "24\n",
      "26\n",
      "28\n",
      "30\n",
      "32\n",
      "34\n",
      "36\n",
      "38\n",
      "40\n",
      "42\n",
      "44\n",
      "46\n",
      "48\n",
      "50\n",
      "52\n",
      "54\n",
      "56\n",
      "58\n",
      "60\n",
      "62\n",
      "64\n",
      "66\n",
      "68\n",
      "70\n",
      "72\n",
      "74\n",
      "76\n",
      "78\n",
      "80\n",
      "82\n",
      "84\n",
      "86\n",
      "88\n",
      "90\n",
      "92\n",
      "94\n",
      "96\n",
      "98\n"
     ]
    }
   ],
   "source": [
    "# Hint: the operator \"%\" can be use to obtain the remainder of a division, i.e.   5 % 3 = 2        (1 * 3 + 2)\n",
    "# even numbers result in 0 when divided by 2\n",
    "even_numbers_list = [ print(i) for i in my_numbers if i%2 == 0] # Your list comprehension here\n",
    "# print(even_numbers_list)"
   ]
  },
  {
   "cell_type": "markdown",
   "metadata": {},
   "source": [
    "<div class=\"alert alert-success\">\n",
    "\n",
    "<b>EXERCISE 4</b>:\n",
    "\n",
    "Use list comprehension to print the elements of my_numbers which are divisible by both 2 and 5"
   ]
  },
  {
   "cell_type": "code",
   "execution_count": 12,
   "metadata": {},
   "outputs": [
    {
     "name": "stdout",
     "output_type": "stream",
     "text": [
      "0\n",
      "10\n",
      "20\n",
      "30\n",
      "40\n",
      "50\n",
      "60\n",
      "70\n",
      "80\n",
      "90\n"
     ]
    }
   ],
   "source": [
    "# Hint: See hint in Exercise 3 \n",
    "# the AND operator would ensure that such numbers are both divisible by 2 and 5\n",
    "# the AND operator checks for 2 conditions and returns values that satisfy both only\n",
    "\n",
    "divisible_by_two_and_five_list = [print(i) for i in my_numbers if i%2 ==0 and i%5 == 0] # Your list comprehension here\n",
    "# print(divisible_by_two_and_five_list)"
   ]
  },
  {
   "cell_type": "markdown",
   "metadata": {},
   "source": [
    "<div class=\"alert alert-success\">\n",
    "\n",
    "<b>EXERCISE 5</b>:\n",
    "    \n",
    "Use list comprehension to get the sum of the first 1000 odd numbers squared\n",
    "    \n",
    "Note: The sum of the squared odd numbers in range(1000) is also accepted"
   ]
  },
  {
   "cell_type": "markdown",
   "metadata": {},
   "source": [
    "**NB:**\n",
    "The range(1000) would print the first 500 odd numbers. but to get the first 1000 odd numbers, we have to use the range(2000)"
   ]
  },
  {
   "cell_type": "code",
   "execution_count": 13,
   "metadata": {},
   "outputs": [
    {
     "name": "stdout",
     "output_type": "stream",
     "text": [
      "1333333000\n"
     ]
    }
   ],
   "source": [
    "# sum of the first 1000 numbers\n",
    "# i%2 == 1 means that for the odd i values\n",
    "# outputs 1 when divided by 2\n",
    "sum_odd_squared = [i**2 for i in range(2000) if i%2==1]\n",
    "print(sum(sum_odd_squared))"
   ]
  },
  {
   "cell_type": "code",
   "execution_count": 14,
   "metadata": {},
   "outputs": [
    {
     "name": "stdout",
     "output_type": "stream",
     "text": [
      "1000000000000\n"
     ]
    }
   ],
   "source": [
    "# sum of the first 1000 odd numbers squared\n",
    "sum_odd_sqrd = sum([i for i in range(2000) if i%2 == 1])\n",
    "print(sum_odd_sqrd**2)"
   ]
  },
  {
   "cell_type": "code",
   "execution_count": 15,
   "metadata": {},
   "outputs": [
    {
     "data": {
      "text/plain": [
       "(2, 5)"
      ]
     },
     "execution_count": 15,
     "metadata": {},
     "output_type": "execute_result"
    }
   ],
   "source": [
    "# For loop here if needed \n",
    "dim0_size,dim1_size = my_matrix.shape\n",
    "my_matrix.shape"
   ]
  },
  {
   "cell_type": "code",
   "execution_count": 16,
   "metadata": {},
   "outputs": [
    {
     "name": "stdout",
     "output_type": "stream",
     "text": [
      "[2, 1]\n",
      "[4, 3]\n",
      "[6, 7]\n",
      "[8, 9]\n",
      "[10, 11]\n"
     ]
    },
    {
     "data": {
      "text/plain": [
       "[None, None, None, None, None]"
      ]
     },
     "execution_count": 16,
     "metadata": {},
     "output_type": "execute_result"
    }
   ],
   "source": [
    "my_matrix = np.asarray([[2,4,6,8,10], [1,3,7,9,11]])\n",
    "\n",
    "dim0_size,dim1_size = my_matrix.shape\n",
    "my_matrix_transposed = [[my_matrix[j][i] for j in range(len(my_matrix))] for i in range(len(my_matrix[0])) ] # Your NESTED list comprehension here\n",
    "[print(r) for r in my_matrix_transposed]\n",
    "# print(my_matrix.transpose())"
   ]
  },
  {
   "cell_type": "markdown",
   "metadata": {},
   "source": [
    "<div class=\"alert alert-success\">\n",
    "\n",
    "<b>EXERCISE 7</b>:\n",
    "    \n",
    "Use Try statement to handle this non-existant file and print an informative message"
   ]
  },
  {
   "cell_type": "code",
   "execution_count": 17,
   "metadata": {},
   "outputs": [
    {
     "name": "stdout",
     "output_type": "stream",
     "text": [
      "Are you sure about the filepath? Crosscheck and try again\n"
     ]
    }
   ],
   "source": [
    "# Your Try ... Except here\n",
    "try:\n",
    "    my_file = open('notAfile.txt')\n",
    "    with my_file as file:\n",
    "        content = file.read()\n",
    "        print(content)\n",
    "except FileNotFoundError:\n",
    "    print('Are you sure about the filepath? Crosscheck and try again')"
   ]
  },
  {
   "cell_type": "markdown",
   "metadata": {},
   "source": [
    "<div class=\"alert alert-success\">\n",
    "\n",
    "<b>EXERCISE 8</b>:\n",
    "   \n",
    "Ask a number to the user using the function \"input()\". For this to work, you may need to use and infinit While loop\n",
    "    \n",
    "Use Try statement to verify the user input using ValueError"
   ]
  },
  {
   "cell_type": "code",
   "execution_count": null,
   "metadata": {},
   "outputs": [],
   "source": [
    "# Your Try ... Except here\n",
    "while True:\n",
    "    try:\n",
    "        # takes an input\n",
    "        # converts it to an integer\n",
    "        number = int(input('Type your IBAN details here: '))\n",
    "        # checks if the length of the input is 13\n",
    "        # does this by converting the numbers into a string\n",
    "        if len(str(number)) == 13:\n",
    "            # prints a confirmatory e-mail\n",
    "            print('Wait as we process your account details')\n",
    "            # ends the process of inputing card details\n",
    "            break\n",
    "        else:\n",
    "            print('IBAN must be 13 digits. Try Again')\n",
    "            # continues to ask for the right input\n",
    "            \n",
    "            \n",
    "        # if the input cannot be converted to an int\n",
    "    except ValueError:\n",
    "        print('Should include only numbers. Try Again')\n",
    "        # continue to ask for input\n",
    "        continue\n",
    "        \n",
    "        "
   ]
  },
  {
   "cell_type": "markdown",
   "metadata": {},
   "source": [
    "<div class=\"alert alert-success\">\n",
    "\n",
    "<b>BONUS: EXERCISE 9</b>:\n",
    "   \n",
    "From the above, handle the KeyboardInterrupt. It is expected to not work properly"
   ]
  },
  {
   "cell_type": "markdown",
   "metadata": {},
   "source": [
    "#### The KeyboardInterrupt exception\n"
   ]
  },
  {
   "cell_type": "code",
   "execution_count": null,
   "metadata": {},
   "outputs": [],
   "source": [
    "# Your Try ... Except here\n",
    "try:\n",
    "    while True:\n",
    "        try:\n",
    "            # takes an input\n",
    "            # converts it to an integer\n",
    "            number = int(input('Type your IBAN details here: '))\n",
    "            # checks if the length of the input is 13\n",
    "            # does this by converting the numbers into a string\n",
    "            if len(str(number)) == 13:\n",
    "                # prints a confirmatory e-mail\n",
    "                print('Wait as we process your account details')\n",
    "                # ends the process of inputing card details\n",
    "                break\n",
    "            else:\n",
    "                print('IBAN must be 13 digits. Try Again')\n",
    "                # continues to ask for the right input\n",
    "\n",
    "\n",
    "            # if the input cannot be converted to an int\n",
    "        except ValueError:\n",
    "            print('Should include only numbers. Try Again')\n",
    "        # continue to ask for input\n",
    "            continue\n",
    "        \n",
    "except KeyboardInterrupt:\n",
    "    \n",
    "    print('Your session has been terminated')"
   ]
  },
  {
   "cell_type": "markdown",
   "metadata": {},
   "source": [
    "<div class=\"alert alert-success\">\n",
    "\n",
    "<b>BONUS: EXERCISE 10</b>:\n",
    "   \n",
    "From the above, manage the SystemExit error (killing the kernel)"
   ]
  },
  {
   "cell_type": "markdown",
   "metadata": {},
   "source": [
    "#### The SystemExit error \n",
    "Occurs when the user interrupts the program or an external command ungraciously terminates the program. The expection block provides a better experience by displaying a custom message before the program is terminated"
   ]
  },
  {
   "cell_type": "code",
   "execution_count": null,
   "metadata": {},
   "outputs": [],
   "source": [
    "# Your Try ... Except here\n",
    "try:\n",
    "    while True:\n",
    "        try:\n",
    "            # takes an input\n",
    "            # converts it to an integer\n",
    "            number = int(input('Type your IBAN details here: '))\n",
    "            # checks if the length of the input is 13\n",
    "            # does this by converting the numbers into a string\n",
    "            if len(str(number)) == 13:\n",
    "                # prints a confirmatory e-mail\n",
    "                print('Wait as we process your account details')\n",
    "                # ends the process of inputing card details\n",
    "                break\n",
    "            else:\n",
    "                print('IBAN must be 13 digits. Try Again')\n",
    "                # continues to ask for the right input\n",
    "\n",
    "\n",
    "            # if the input cannot be converted to an int\n",
    "        except ValueError:\n",
    "            print('Should include only numbers. Try Again')\n",
    "        # continue to ask for input\n",
    "            continue\n",
    "        \n",
    "except KeyboardInterrupt:\n",
    "    print('Your session has been terminated')\n",
    "    \n",
    "except SystemExit:\n",
    "    print('\\n Operation terminated')"
   ]
  },
  {
   "cell_type": "markdown",
   "metadata": {},
   "source": [
    "<div class=\"alert alert-success\">\n",
    "\n",
    "<b>BONUS</b>:\n",
    "   \n",
    "Rewrite each of the following codes using list comprehensions"
   ]
  },
  {
   "cell_type": "code",
   "execution_count": null,
   "metadata": {},
   "outputs": [],
   "source": [
    "# compute first 20 powers of 2\n",
    "i = 0\n",
    "powers = []\n",
    "while i < 20:\n",
    "    p = 2**i\n",
    "    powers.append( p )\n",
    "    i = i + 1"
   ]
  },
  {
   "cell_type": "code",
   "execution_count": 7,
   "metadata": {},
   "outputs": [
    {
     "data": {
      "text/plain": [
       "[1,\n",
       " 2,\n",
       " 4,\n",
       " 8,\n",
       " 16,\n",
       " 32,\n",
       " 64,\n",
       " 128,\n",
       " 256,\n",
       " 512,\n",
       " 1024,\n",
       " 2048,\n",
       " 4096,\n",
       " 8192,\n",
       " 16384,\n",
       " 32768,\n",
       " 65536,\n",
       " 131072,\n",
       " 262144,\n",
       " 524288]"
      ]
     },
     "execution_count": 7,
     "metadata": {},
     "output_type": "execute_result"
    }
   ],
   "source": [
    "# computes the first 20 powers of 2 using list comprehensin\n",
    "powers = [2**i for i in range(20)]\n",
    "powers"
   ]
  },
  {
   "cell_type": "code",
   "execution_count": 3,
   "metadata": {},
   "outputs": [],
   "source": [
    "import math\n",
    "# first 14 k- digit approximations of pi\n",
    "approximations = []\n",
    "i = 1\n",
    "while i <= 14:\n",
    "    approx = round ( math.pi , i )\n",
    "    approximations.append(approx)\n",
    "    i += i\n",
    "    \n"
   ]
  },
  {
   "cell_type": "code",
   "execution_count": 5,
   "metadata": {},
   "outputs": [
    {
     "data": {
      "text/plain": [
       "[3.1,\n",
       " 3.14,\n",
       " 3.142,\n",
       " 3.1416,\n",
       " 3.14159,\n",
       " 3.141593,\n",
       " 3.1415927,\n",
       " 3.14159265,\n",
       " 3.141592654,\n",
       " 3.1415926536,\n",
       " 3.14159265359,\n",
       " 3.14159265359,\n",
       " 3.1415926535898,\n",
       " 3.14159265358979]"
      ]
     },
     "execution_count": 5,
     "metadata": {},
     "output_type": "execute_result"
    }
   ],
   "source": [
    "# rounds pi to the ith decimal number\n",
    "# i is set in the range(1 - 14) with 14 included\n",
    "approx = [round(math.pi, i) for i in range(1, 15)]\n",
    "approx"
   ]
  },
  {
   "cell_type": "code",
   "execution_count": 6,
   "metadata": {},
   "outputs": [],
   "source": [
    "# Generate all (x, y, z) coordinates from three lists\n",
    "xpoints = [1 , 2 , -1]\n",
    "ypoints = [8 , 4 , 3 , 0]\n",
    "zpoints = [0 , -1]\n",
    "points = []\n",
    "for x in xpoints :\n",
    "    for y in ypoints :\n",
    "        for z in zpoints :\n",
    "            points.append(( x , y , z ))"
   ]
  },
  {
   "cell_type": "code",
   "execution_count": 19,
   "metadata": {},
   "outputs": [
    {
     "data": {
      "text/plain": [
       "[(1, 8, 0),\n",
       " (1, 8, -1),\n",
       " (1, 4, 0),\n",
       " (1, 4, -1),\n",
       " (1, 3, 0),\n",
       " (1, 3, -1),\n",
       " (1, 0, 0),\n",
       " (1, 0, -1),\n",
       " (2, 8, 0),\n",
       " (2, 8, -1),\n",
       " (2, 4, 0),\n",
       " (2, 4, -1),\n",
       " (2, 3, 0),\n",
       " (2, 3, -1),\n",
       " (2, 0, 0),\n",
       " (2, 0, -1),\n",
       " (-1, 8, 0),\n",
       " (-1, 8, -1),\n",
       " (-1, 4, 0),\n",
       " (-1, 4, -1),\n",
       " (-1, 3, 0),\n",
       " (-1, 3, -1),\n",
       " (-1, 0, 0),\n",
       " (-1, 0, -1)]"
      ]
     },
     "execution_count": 19,
     "metadata": {},
     "output_type": "execute_result"
    }
   ],
   "source": [
    "# xpoints\n",
    "# ypoints\n",
    "# zpoints had all been introduced in the cell above\n",
    "[(x,y,z) for x in xpoints for y in ypoints for z in zpoints ]"
   ]
  },
  {
   "cell_type": "markdown",
   "metadata": {},
   "source": [
    "# Classes"
   ]
  },
  {
   "cell_type": "markdown",
   "metadata": {},
   "source": [
    "Create a class Complex that could be used according to:"
   ]
  },
  {
   "cell_type": "code",
   "execution_count": 26,
   "metadata": {},
   "outputs": [
    {
     "data": {
      "text/plain": [
       "-4"
      ]
     },
     "execution_count": 26,
     "metadata": {},
     "output_type": "execute_result"
    }
   ],
   "source": [
    "z1 = Complex (3 , 4)\n",
    "z1.real\n",
    "# 3\n",
    "z1.imag\n",
    "# 4\n",
    "z1.mod ()\n",
    "# 5.0\n",
    "z1.arg ()\n",
    "# 0.9272952180016122\n",
    "z1.conj().imag\n",
    "# -4"
   ]
  },
  {
   "cell_type": "code",
   "execution_count": 23,
   "metadata": {},
   "outputs": [],
   "source": [
    "class Complex:\n",
    "    \n",
    "    def __init__(self, real, imag):\n",
    "        self.real = real\n",
    "        self.imag = imag\n",
    "    \n",
    "    def mod(self):\n",
    "        # calculates the modulus of the complex number\n",
    "        return math.sqrt(self.real**2 + self.imag**2)\n",
    "    \n",
    "    def arg(self):\n",
    "        # calculates the angle of the complex number in radians\n",
    "        return math.atan2(self.imag, self.real)\n",
    "    \n",
    "    def conj(self):\n",
    "        # returns the conjugate of the complex number\n",
    "        return Complex(self.real, -self.imag)"
   ]
  },
  {
   "cell_type": "code",
   "execution_count": 25,
   "metadata": {},
   "outputs": [
    {
     "data": {
      "text/plain": [
       "2"
      ]
     },
     "execution_count": 25,
     "metadata": {},
     "output_type": "execute_result"
    }
   ],
   "source": [
    "z1 = Complex(2,3)\n",
    "z1.real"
   ]
  },
  {
   "cell_type": "code",
   "execution_count": 27,
   "metadata": {},
   "outputs": [
    {
     "data": {
      "text/plain": [
       "4"
      ]
     },
     "execution_count": 27,
     "metadata": {},
     "output_type": "execute_result"
    }
   ],
   "source": [
    "z1.imag"
   ]
  },
  {
   "cell_type": "code",
   "execution_count": 28,
   "metadata": {},
   "outputs": [
    {
     "data": {
      "text/plain": [
       "5.0"
      ]
     },
     "execution_count": 28,
     "metadata": {},
     "output_type": "execute_result"
    }
   ],
   "source": [
    "z1.mod()"
   ]
  },
  {
   "cell_type": "code",
   "execution_count": 29,
   "metadata": {},
   "outputs": [
    {
     "data": {
      "text/plain": [
       "0.9272952180016122"
      ]
     },
     "execution_count": 29,
     "metadata": {},
     "output_type": "execute_result"
    }
   ],
   "source": [
    "z1.arg()"
   ]
  },
  {
   "cell_type": "code",
   "execution_count": 31,
   "metadata": {},
   "outputs": [
    {
     "data": {
      "text/plain": [
       "-4"
      ]
     },
     "execution_count": 31,
     "metadata": {},
     "output_type": "execute_result"
    }
   ],
   "source": [
    "z1.conj().imag"
   ]
  },
  {
   "cell_type": "markdown",
   "metadata": {},
   "source": [
    "Add the method polar to print a polar representation of the complex number:"
   ]
  },
  {
   "cell_type": "code",
   "execution_count": null,
   "metadata": {},
   "outputs": [],
   "source": [
    "z1 . polar ()\n",
    "#'5.0* exp (0.92779 i) '"
   ]
  },
  {
   "cell_type": "code",
   "execution_count": 37,
   "metadata": {},
   "outputs": [],
   "source": [
    "class Complex:\n",
    "    \n",
    "    def __init__(self, real, imag):\n",
    "        self.real = real\n",
    "        self.imag = imag\n",
    "    \n",
    "    def mod(self):\n",
    "        # calculates the modulus of the complex number\n",
    "        return math.sqrt(self.real**2 + self.imag**2)\n",
    "    \n",
    "    def arg(self):\n",
    "        # calculates the angle of the complex number in radians\n",
    "        return math.atan2(self.imag, self.real)\n",
    "    \n",
    "    def conj(self):\n",
    "        # returns the conjugate of the complex number\n",
    "        return Complex(self.real, -self.imag)\n",
    "    \n",
    "    def polar(self):\n",
    "        return self.mod(), self.arg()"
   ]
  },
  {
   "cell_type": "code",
   "execution_count": 40,
   "metadata": {},
   "outputs": [
    {
     "data": {
      "text/plain": [
       "(3.605551275463989, 0.982793723247329)"
      ]
     },
     "execution_count": 40,
     "metadata": {},
     "output_type": "execute_result"
    }
   ],
   "source": [
    "z1 = Complex(2,3)\n",
    "z1.polar()\n",
    "\n"
   ]
  },
  {
   "cell_type": "code",
   "execution_count": null,
   "metadata": {},
   "outputs": [],
   "source": []
  }
 ],
 "metadata": {
  "kernelspec": {
   "display_name": "Python 3 (ipykernel)",
   "language": "python",
   "name": "python3"
  },
  "language_info": {
   "codemirror_mode": {
    "name": "ipython",
    "version": 3
   },
   "file_extension": ".py",
   "mimetype": "text/x-python",
   "name": "python",
   "nbconvert_exporter": "python",
   "pygments_lexer": "ipython3",
   "version": "3.9.13"
  },
  "nteract": {
   "version": "nteract-front-end@1.0.0"
  }
 },
 "nbformat": 4,
 "nbformat_minor": 2
}
